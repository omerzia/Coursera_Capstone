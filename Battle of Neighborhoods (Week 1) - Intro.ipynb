{
    "cells": [
        {
            "metadata": {
                "collapsed": true
            },
            "cell_type": "markdown",
            "source": "# The Battle of Neighborhoods (Week 1)"
        },
        {
            "metadata": {},
            "cell_type": "markdown",
            "source": "## Introduction"
        },
        {
            "metadata": {},
            "cell_type": "markdown",
            "source": "#### YOUGEN FRUZ wants to open their Forzen Yogurt in some Locality (UC) / Town of Lahore, Pakistan. They are asking our help to do analysis in finding the best Locality.\n\n## Business Problem \n\n#### In order to open YOUGEN FRUZ - Frozen Yogurt points, we will have the need to use some information about the Neighboorhoods/Town/UC in Lahore. We must be sure that the place where the YOUGEN FRUZ joint is opened will have enough customers and also that there aren't a Frozen Yogurt points in the place.\n"
        },
        {
            "metadata": {},
            "cell_type": "code",
            "source": "",
            "execution_count": null,
            "outputs": []
        }
    ],
    "metadata": {
        "kernelspec": {
            "name": "python3",
            "display_name": "Python 3.6",
            "language": "python"
        },
        "language_info": {
            "name": "python",
            "version": "3.6.9",
            "mimetype": "text/x-python",
            "codemirror_mode": {
                "name": "ipython",
                "version": 3
            },
            "pygments_lexer": "ipython3",
            "nbconvert_exporter": "python",
            "file_extension": ".py"
        }
    },
    "nbformat": 4,
    "nbformat_minor": 1
}