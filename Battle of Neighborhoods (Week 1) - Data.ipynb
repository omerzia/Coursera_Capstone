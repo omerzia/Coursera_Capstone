{
    "cells": [
        {
            "metadata": {
                "collapsed": true
            },
            "cell_type": "markdown",
            "source": "# The Battle of Neighborhoods (Week 1)"
        },
        {
            "metadata": {},
            "cell_type": "markdown",
            "source": "## Data"
        },
        {
            "metadata": {},
            "cell_type": "markdown",
            "source": "#### To help YOUGEN FRUZ in their search, we will need to access the following data:\n\n##### - The Neighborhoods/Towns of Lahore, Pakistan from Wikipedia:https://en.wikipedia.org/wiki/List_of_towns_in_Lahore\n##### - The coordinates (latitude, longitude) to these Towns/UC of Lahore from Open Street Map APIs / Postal Codes\n\n#### - From Foursquare we will need following venues data:\n#####   - the Frozen Yogurt/Yogurt venues of all UCs\n#####   - the office's venues of all UCs\n#####   - the high school's venues of all UCs\n#####   - the universities venues of all UCs\n\n#### We will then leverage the data in order to determine which locality is the most appropriate in order to locate the Frozen Yogurt / Yogurt venue. "
        },
        {
            "metadata": {},
            "cell_type": "code",
            "source": "",
            "execution_count": null,
            "outputs": []
        }
    ],
    "metadata": {
        "kernelspec": {
            "name": "python3",
            "display_name": "Python 3.6",
            "language": "python"
        },
        "language_info": {
            "name": "python",
            "version": "3.6.9",
            "mimetype": "text/x-python",
            "codemirror_mode": {
                "name": "ipython",
                "version": 3
            },
            "pygments_lexer": "ipython3",
            "nbconvert_exporter": "python",
            "file_extension": ".py"
        }
    },
    "nbformat": 4,
    "nbformat_minor": 1
}